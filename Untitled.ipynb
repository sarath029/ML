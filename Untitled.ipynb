{
 "cells": [
  {
   "cell_type": "code",
   "execution_count": 1,
   "metadata": {},
   "outputs": [
    {
     "name": "stdout",
     "output_type": "stream",
     "text": [
      "['0', '0', '0', '0', '0', '0']\n",
      "['sunny', 'warm', 'normal', 'strong', 'warm', 'same']\n",
      "['sunny', 'warm', '?', 'strong', 'warm', 'same']\n",
      "['sunny', 'warm', '?', 'strong', 'warm', 'same']\n",
      "['sunny', 'warm', '?', 'strong', '?', '?']\n"
     ]
    }
   ],
   "source": [
    "#prog1\n",
    "f = open('prg1.csv','r')\n",
    "n = len(f.readline().split(','))\n",
    "shypo = ['0']*(n-1)\n",
    "print(shypo)\n",
    "f = open('prg1.csv','r')\n",
    "for i in f:\n",
    "    lst = i.split(',')\n",
    "    if lst[-1] == 'yes\\n':\n",
    "        for i in range(n-1):\n",
    "            if shypo[i] == '0':\n",
    "                shypo[i] = lst[i]\n",
    "            elif lst[i] != shypo[i]:\n",
    "                shypo[i] = '?'\n",
    "    print(shypo)"
   ]
  },
  {
   "cell_type": "code",
   "execution_count": 2,
   "metadata": {},
   "outputs": [
    {
     "name": "stdout",
     "output_type": "stream",
     "text": [
      "['0', '0', '0', '0', '0', '0']\n",
      "['?', '?', '?', '?', '?', '?']\n",
      "['sunny', 'warm', 'normal', 'strong', 'warm', 'same']\n",
      "['?', '?', '?', '?', '?', '?']\n",
      "['sunny', 'warm', '?', 'strong', 'warm', 'same']\n",
      "['?', '?', '?', '?', '?', '?']\n",
      "['sunny', 'warm', '?', 'strong', 'warm', 'same']\n",
      "[['sunny', '?', '?', '?', '?', '?'], ['?', 'warm', '?', '?', '?', '?'], ['?', '?', '?', '?', '?', 'same']]\n",
      "['sunny', 'warm', '?', 'strong', '?', '?']\n",
      "[['sunny', '?', '?', '?', '?', '?'], ['?', 'warm', '?', '?', '?', '?'], ['?', '?', '?', '?', '?', 'same']]\n",
      "[['sunny', '?', '?', '?', '?', '?'], ['?', 'warm', '?', '?', '?', '?']]\n"
     ]
    }
   ],
   "source": [
    "#prog2 \n",
    "f = open('prg1.csv','r')\n",
    "n = len(f.readline().split(','))\n",
    "shypo = ['0']*(n-1)\n",
    "ghypo = ['?']*(n-1)\n",
    "print(shypo)\n",
    "print(ghypo)\n",
    "\n",
    "f = open('prg1.csv','r')\n",
    "for i in f:\n",
    "    lst = i.split(',')\n",
    "    if lst[-1] == 'yes\\n':\n",
    "        for i in range(n-1):\n",
    "            if shypo[i] == '0':\n",
    "                shypo[i] = lst[i]\n",
    "            elif lst[i] != shypo[i]:\n",
    "                shypo[i] = '?'\n",
    "    else:\n",
    "        ghypo.clear()\n",
    "        if '0' in shypo:\n",
    "                temp = []\n",
    "                for i in range(n-1):\n",
    "                    temp = ['?']*i\n",
    "                    temp +=  [lst[i]]\n",
    "                    temp += (['?']*(length-2-i))\n",
    "                    ghypo.append(temp)\n",
    "        else:\n",
    "            for i in range(n-1):\n",
    "                if lst[i]!=shypo[i] and shypo[i]!='?':\n",
    "                    temp = ['?']*i\n",
    "                    temp +=  [shypo[i]]\n",
    "                    temp += (['?']*(n-2-i))\n",
    "                    ghypo.append(temp)\n",
    "    print(shypo)\n",
    "    print(ghypo)\n",
    "temp = []\n",
    "for i in range(len(ghypo)):\n",
    "    for j in range(len(ghypo[i])):\n",
    "        if ghypo[i][j]!= '?' and ghypo[i][j] == shypo [j]:\n",
    "            temp.append(ghypo[i])\n",
    "print(temp)"
   ]
  },
  {
   "cell_type": "code",
   "execution_count": 3,
   "metadata": {},
   "outputs": [
    {
     "name": "stdout",
     "output_type": "stream",
     "text": [
      "The Decision Tree is:\n",
      " {'Outlook': {'Overcast': 'Yes', 'Rain': {'Wind': {'Strong': 'No', 'Weak': 'Yes'}}, 'Sunny': {'Humidity': {'Normal': 'Yes', 'High': 'No'}}}}\n",
      "\n",
      "\n",
      "Testing sample 1:\n",
      " {'PlayTennis': 'Yes', 'Outlook': 'Overcast', 'Wind': 'Weak', 'Humidity': 'Normal', 'Temperature': 'Hot'} PREDICTED => Yes\n"
     ]
    }
   ],
   "source": [
    "#prog3\n",
    "import numpy as np\n",
    "import pandas as pd\n",
    "def entropy(target_col):\n",
    "    elements,counts = np.unique(target_col,return_counts = True)\n",
    "    entropy = np.sum([(-counts[i]/np.sum(counts))*np.log2(counts[i]/np.sum(counts))for i in range(len(elements))])\n",
    "    return entropy\n",
    "\n",
    "def gain(data,feature,tname):\n",
    "    te = entropy(data[tname])\n",
    "    vals,counts= np.unique(data[feature],return_counts=True)\n",
    "    we = np.sum([(counts[i]/np.sum(counts))*entropy(data.where(data[feature]==vals[i]).dropna()[tname]) for i in range(len(vals))]) #same line\n",
    "    Information_Gain = te - we\n",
    "    return Information_Gain\n",
    "\n",
    "def ID3(data,f,tname):\n",
    "    if len(np.unique(data[tname])) == 1:\n",
    "        return np.unique(data[tname])[0]\n",
    "    else:\n",
    "        item_values = [gain(data,feature,tname) for feature in f]\n",
    "        bfi= np.argmax(item_values)\n",
    "        bf = f[bfi]\n",
    "        tree = {bf:{}}\n",
    "        for value in np.unique(data[bf]):\n",
    "            sub_data = data.where(data[bf] == value).dropna()\n",
    "            subtree = ID3(sub_data,f,tname)\n",
    "            tree[bf][value] = subtree\n",
    "        return tree\n",
    "data = pd.read_csv('PlayTennis.csv')\n",
    "f = ['Outlook','Temperature','Humidity','Wind']\n",
    "tname = \"PlayTennis\"\n",
    "tree=ID3(data,f,tname)\n",
    "print(\"The Decision Tree is:\\n\",tree)\n",
    "query = data.iloc[:,:].to_dict(orient=\"records\")\n",
    "\n",
    "def predict(query,tree):\n",
    "    for key in list(query.keys()):\n",
    "        if key in list(tree.keys()):\n",
    "            result = tree[key][query[key]]\n",
    "            if isinstance(result,dict):\n",
    "                return predict(query,result)\n",
    "            else:\n",
    "                return result\n",
    "\n",
    "\n",
    "#Testing\n",
    "result=predict(query[12],tree)\n",
    "print(\"\\n\\nTesting sample 1:\\n\",query[12],\"PREDICTED =>\",result)"
   ]
  },
  {
   "cell_type": "code",
   "execution_count": 4,
   "metadata": {},
   "outputs": [
    {
     "name": "stdout",
     "output_type": "stream",
     "text": [
      "[[0.89436875]\n",
      " [0.87692083]\n",
      " [0.8978811 ]]\n"
     ]
    }
   ],
   "source": [
    "#prog4\n",
    "import numpy as np\n",
    "def sig(x):\n",
    "    return 1/(1+np.exp(-x))\n",
    "def siggrad(x):\n",
    "    return x*(1-x)\n",
    "\n",
    "x = np.array([[2,9],[1,5],[3,6]])\n",
    "x = x/np.amax(x,axis=0)\n",
    "y = np.array([[92],[86],[89]])\n",
    "y = y/100\n",
    "wh = np.random.uniform(size = (2,3))\n",
    "bh = np.random.uniform(size = (1,3))\n",
    "wout = np.random.uniform(size = (3,1))\n",
    "bout = np.random.uniform(size = (1,1))\n",
    "epoch = 1000\n",
    "eta = 0.1\n",
    "for i in range(epoch):\n",
    "    wnew = np.dot(x,wh)+bh\n",
    "    sigw = sig(wnew)\n",
    "    bnew = np.dot(sigw,wout)+bout\n",
    "    op = sig(bnew)\n",
    "    \n",
    "    yop = y - op\n",
    "    gradop = siggrad(op)\n",
    "    d_op = yop*gradop\n",
    "    \n",
    "    eh = np.dot(d_op,wout.T)\n",
    "    hiddengrad = siggrad(sigw)\n",
    "    d_hidden = eh*hiddengrad\n",
    "    \n",
    "    wout += np.dot(sigw.T,d_op)*eta\n",
    "    wh += np.dot(x.T,d_hidden)*eta\n",
    "    \n",
    "print(op)"
   ]
  },
  {
   "cell_type": "code",
   "execution_count": 5,
   "metadata": {},
   "outputs": [
    {
     "name": "stdout",
     "output_type": "stream",
     "text": [
      "1672 correct of 2437\n",
      "Accuracy = 0.686089454247025\n"
     ]
    }
   ],
   "source": [
    "#prog5\n",
    "import pandas as pd\n",
    "mush = pd.read_csv('5-mushrooms.csv')\n",
    "target = 'class'\n",
    "classes = mush[target].unique()\n",
    "features = mush.columns[mush.columns!=target]\n",
    "testData = mush.sample(frac=0.3)\n",
    "mush.drop(testData.index,inplace = True)\n",
    "first ={}\n",
    "fourth ={}\n",
    "for x in classes:\n",
    "    mushcl = mush[mush[target]==x][features]\n",
    "    tot = len(mushcl)\n",
    "    second={}\n",
    "    for col in mushcl.columns:\n",
    "        third={}\n",
    "        for val,cnt in mushcl[col].value_counts().iteritems():\n",
    "            prob = cnt/tot\n",
    "            third[val]=prob\n",
    "            second[col]=third\n",
    "            first[x]=second\n",
    "            fourth[x]=len(mushcl)/len(mush)\n",
    "\n",
    "def proabs(params):\n",
    "    proab={}\n",
    "    for x in classes:\n",
    "        calc = fourth[x]\n",
    "        for col, val in params.iteritems():\n",
    "            try:\n",
    "                calc = first[x][col][val]\n",
    "            except KeyError:\n",
    "                calc =0\n",
    "        proab[x]=calc\n",
    "    return proab\n",
    "def maxx(params):\n",
    "    proab = proabs(params)\n",
    "    maxcl =''; maxv=0\n",
    "    for col,val in proab.items():\n",
    "        if(val>maxv):\n",
    "            maxv=val\n",
    "            maxcl=col\n",
    "    return maxcl            \n",
    "b=[]\n",
    "\n",
    "for i in testData.index:\n",
    "    b.append(maxx(testData.loc[i,features]) == testData.loc[i,target])\n",
    "print(sum(b),'correct of',len(b))\n",
    "print('Accuracy =',sum(b)/len(b))"
   ]
  },
  {
   "cell_type": "code",
   "execution_count": 6,
   "metadata": {},
   "outputs": [
    {
     "name": "stdout",
     "output_type": "stream",
     "text": [
      "The dimensions of the dataset (18, 2)\n",
      "['am', 'amazing', 'an', 'and', 'awesome', 'bad', 'best', 'boss', 'can', 'deal', 'do', 'enemy', 'great', 'he', 'holiday', 'horrible', 'house', 'is', 'juice', 'like', 'locality', 'love', 'my', 'not', 'of', 'place', 'restaurant', 'sandwich', 'sick', 'stay', 'sworn', 'taste', 'that', 'the', 'this', 'tired', 'to', 'today', 'view', 'went', 'what', 'with', 'work']\n",
      "    am  amazing  an  and  awesome  bad  best  boss  can  deal  ...  the  this  \\\n",
      "0    0        0   0    0        0    0     0     0    0     0  ...    0     1   \n",
      "1    1        0   0    1        0    0     0     0    0     0  ...    0     1   \n",
      "2    0        0   0    0        0    0     0     0    0     0  ...    0     0   \n",
      "3    0        0   0    0        0    0     0     0    0     0  ...    1     1   \n",
      "4    0        1   1    0        0    0     0     0    0     0  ...    0     1   \n",
      "5    0        0   0    0        0    0     0     1    0     0  ...    0     0   \n",
      "6    0        0   0    0        0    1     0     0    0     0  ...    0     0   \n",
      "7    0        0   0    0        0    0     0     0    0     0  ...    0     0   \n",
      "8    0        0   0    0        0    0     1     0    0     0  ...    0     1   \n",
      "9    0        0   0    0        0    0     0     0    0     0  ...    0     1   \n",
      "10   0        0   0    0        0    0     0     0    0     0  ...    0     0   \n",
      "11   0        0   1    0        1    0     0     0    0     0  ...    0     0   \n",
      "12   0        0   0    0        0    0     0     0    1     1  ...    0     1   \n",
      "\n",
      "    tired  to  today  view  went  what  with  work  \n",
      "0       0   0      0     0     0     0     0     0  \n",
      "1       1   0      0     0     0     0     0     0  \n",
      "2       0   1      1     0     1     0     0     0  \n",
      "3       0   0      0     0     0     0     0     0  \n",
      "4       0   0      0     0     0     0     0     0  \n",
      "5       0   0      0     0     0     0     0     0  \n",
      "6       0   1      0     0     0     0     0     0  \n",
      "7       0   0      0     0     0     1     0     0  \n",
      "8       0   0      0     0     0     0     0     1  \n",
      "9       0   0      0     0     0     0     0     0  \n",
      "10      0   0      0     0     0     0     0     0  \n",
      "11      0   0      0     1     0     1     0     0  \n",
      "12      0   0      0     0     0     0     1     0  \n",
      "\n",
      "[13 rows x 43 columns]\n",
      "  (0, 21)\t1\n",
      "  (0, 34)\t1\n",
      "  (0, 27)\t1\n",
      "  (1, 34)\t1\n",
      "  (1, 0)\t1\n",
      "  (1, 28)\t1\n",
      "  (1, 3)\t1\n",
      "  (1, 35)\t1\n",
      "  (1, 24)\t1\n",
      "  (1, 25)\t1\n",
      "  (2, 39)\t1\n",
      "  (2, 36)\t1\n",
      "  (2, 22)\t1\n",
      "  (2, 11)\t1\n",
      "  (2, 16)\t1\n",
      "  (2, 37)\t1\n",
      "  (3, 34)\t1\n",
      "  (3, 24)\t1\n",
      "  (3, 10)\t1\n",
      "  (3, 23)\t1\n",
      "  (3, 19)\t1\n",
      "  (3, 33)\t1\n",
      "  (3, 31)\t1\n",
      "  (3, 18)\t1\n",
      "  (4, 34)\t1\n",
      "  :\t:\n",
      "  (7, 12)\t1\n",
      "  (7, 14)\t1\n",
      "  (8, 34)\t1\n",
      "  (8, 22)\t1\n",
      "  (8, 17)\t1\n",
      "  (8, 6)\t1\n",
      "  (8, 42)\t1\n",
      "  (9, 34)\t1\n",
      "  (9, 10)\t1\n",
      "  (9, 23)\t1\n",
      "  (9, 19)\t1\n",
      "  (9, 26)\t1\n",
      "  (10, 22)\t1\n",
      "  (10, 11)\t1\n",
      "  (10, 17)\t1\n",
      "  (10, 13)\t1\n",
      "  (10, 30)\t1\n",
      "  (11, 2)\t1\n",
      "  (11, 40)\t1\n",
      "  (11, 4)\t1\n",
      "  (11, 38)\t1\n",
      "  (12, 34)\t1\n",
      "  (12, 8)\t1\n",
      "  (12, 9)\t1\n",
      "  (12, 41)\t1\n",
      "Accuracy of the classifer is 0.4\n",
      "Confusion matrix\n",
      "[[1 0]\n",
      " [3 1]]\n",
      "Recall and Precison \n",
      "0.25\n",
      "1.0\n"
     ]
    }
   ],
   "source": [
    "#prog6\n",
    "import pandas as pd\n",
    "msg=pd.read_csv('6-naivetext1.csv')\n",
    "print('The dimensions of the dataset',msg.shape)\n",
    "X=msg.message\n",
    "y=msg.label\n",
    "\n",
    "\n",
    "from sklearn.model_selection import train_test_split\n",
    "xtrain,xtest,ytrain,ytest=train_test_split(X,y)\n",
    "\n",
    "from sklearn.feature_extraction.text import CountVectorizer\n",
    "count_vect = CountVectorizer()\n",
    "xtrain_dtm = count_vect.fit_transform(xtrain)\n",
    "xtest_dtm = count_vect.transform(xtest)\n",
    "print(count_vect.get_feature_names())\n",
    "\n",
    "df=pd.DataFrame(xtrain_dtm.toarray(),columns=count_vect.get_feature_names())\n",
    "print(df)\n",
    "print(xtrain_dtm) \n",
    "\n",
    "from sklearn.naive_bayes import MultinomialNB\n",
    "clf = MultinomialNB().fit(xtrain_dtm,ytrain)\n",
    "predicted = clf.predict(xtest_dtm)\n",
    "\n",
    "from sklearn import metrics\n",
    "print('Accuracy of the classifer is',metrics.accuracy_score(ytest,predicted))\n",
    "print('Confusion matrix')\n",
    "print(metrics.confusion_matrix(ytest,predicted))\n",
    "print('Recall and Precison ')\n",
    "print(metrics.recall_score(ytest,predicted))\n",
    "print(metrics.precision_score(ytest,predicted))"
   ]
  },
  {
   "cell_type": "code",
   "execution_count": 7,
   "metadata": {
    "scrolled": true
   },
   "outputs": [
    {
     "name": "stdout",
     "output_type": "stream",
     "text": [
      "\n",
      " 1. Probability heart disease given age=28\n",
      "+----------------+---------------------+\n",
      "| heartdisease   |   phi(heartdisease) |\n",
      "+================+=====================+\n",
      "| heartdisease_0 |              0.5889 |\n",
      "+----------------+---------------------+\n",
      "| heartdisease_1 |              0.1668 |\n",
      "+----------------+---------------------+\n",
      "| heartdisease_2 |              0.0919 |\n",
      "+----------------+---------------------+\n",
      "| heartdisease_3 |              0.1113 |\n",
      "+----------------+---------------------+\n",
      "| heartdisease_4 |              0.0411 |\n",
      "+----------------+---------------------+\n",
      "\n",
      " 2. Probability of heart disease for male\n",
      "+----------------+---------------------+\n",
      "| heartdisease   |   phi(heartdisease) |\n",
      "+================+=====================+\n",
      "| heartdisease_0 |              0.5139 |\n",
      "+----------------+---------------------+\n",
      "| heartdisease_1 |              0.1949 |\n",
      "+----------------+---------------------+\n",
      "| heartdisease_2 |              0.1166 |\n",
      "+----------------+---------------------+\n",
      "| heartdisease_3 |              0.1203 |\n",
      "+----------------+---------------------+\n",
      "| heartdisease_4 |              0.0543 |\n",
      "+----------------+---------------------+\n"
     ]
    },
    {
     "name": "stderr",
     "output_type": "stream",
     "text": [
      "/home/sarath/myenv/lib/python3.5/site-packages/pgmpy/factors/discrete/DiscreteFactor.py:598: FutureWarning: Using a non-tuple sequence for multidimensional indexing is deprecated; use `arr[tuple(seq)]` instead of `arr[seq]`. In the future this will be interpreted as an array index, `arr[np.array(seq)]`, which will result either in an error or a different result.\n",
      "  phi1.values = phi1.values[slice_]\n",
      "/home/sarath/myenv/lib/python3.5/site-packages/pgmpy/factors/discrete/DiscreteFactor.py:586: FutureWarning: Using a non-tuple sequence for multidimensional indexing is deprecated; use `arr[tuple(seq)]` instead of `arr[seq]`. In the future this will be interpreted as an array index, `arr[np.array(seq)]`, which will result either in an error or a different result.\n",
      "  phi.values = phi.values[slice_]\n"
     ]
    }
   ],
   "source": [
    "#prog7\n",
    "import pandas as pd\n",
    "import numpy as np\n",
    "from pgmpy.estimators import BayesianEstimator\n",
    "from pgmpy.models import BayesianModel\n",
    "from pgmpy.inference import VariableElimination\n",
    "\n",
    "dt = pd.read_csv('data7.csv')\n",
    "dt.head()\n",
    "\n",
    "model=BayesianModel([('age','trestbps'),('age','fbs'),('sex','trestbps'),('exang','trestbps'),('trestbps','heartdisease'),('fbs','heartdisease')])\n",
    "model.fit(dt,BayesianEstimator)\n",
    "infer = VariableElimination(model)\n",
    "print(\"\\n 1. Probability heart disease given age=28\")\n",
    "q = infer.query(['heartdisease'],{'age':28})\n",
    "print(q['heartdisease'])\n",
    "print(\"\\n 2. Probability of heart disease for male\")\n",
    "q = infer.query(['heartdisease'],{'sex':1})\n",
    "print(q['heartdisease'])\n"
   ]
  },
  {
   "cell_type": "code",
   "execution_count": 11,
   "metadata": {},
   "outputs": [
    {
     "data": {
      "image/png": "[encoded data removed]",
      "text/plain": [
       "<Figure size 432x288 with 1 Axes>"
      ]
     },
     "metadata": {
      "needs_background": "light"
     },
     "output_type": "display_data"
    },
    {
     "name": "stdout",
     "output_type": "stream",
     "text": [
      "Graph using Kmeans Algorithm\n"
     ]
    },
    {
     "data": {
      "image/png": "[encoded data removed]",
      "text/plain": [
       "<Figure size 432x288 with 1 Axes>"
      ]
     },
     "metadata": {
      "needs_background": "light"
     },
     "output_type": "display_data"
    },
    {
     "name": "stdout",
     "output_type": "stream",
     "text": [
      "Graph using EM Algorithm\n"
     ]
    },
    {
     "data": {
      "image/png": "[encoded data removed]",
      "text/plain": [
       "<Figure size 432x288 with 1 Axes>"
      ]
     },
     "metadata": {
      "needs_background": "light"
     },
     "output_type": "display_data"
    }
   ],
   "source": [
    "#prog8\n",
    "import pandas as pd\n",
    "import numpy as np\n",
    "import matplotlib.pyplot as plt\n",
    "\n",
    "from sklearn.mixture import GaussianMixture\n",
    "from sklearn.cluster import KMeans\n",
    "\n",
    "data = pd.read_csv('8-kmeansdata.csv')\n",
    "f1 = data['Distance_Feature']\n",
    "f2 = data['Speeding_Feature']\n",
    "X = np.array(list(zip(f1, f2)))\n",
    "plt.scatter(f1, f2, color='black')\n",
    "plt.show()\n",
    "kmeans = KMeans(3).fit(X)\n",
    "labels = kmeans.predict(X)\n",
    "print('Graph using Kmeans Algorithm')\n",
    "plt.scatter(f1, f2, c=labels)\n",
    "plt.show()\n",
    "\n",
    "\n",
    "gmm = GaussianMixture(3).fit(X)\n",
    "labels = gmm.predict(X)\n",
    "print('Graph using EM Algorithm')\n",
    "plt.scatter(f1, f2, c=labels)\n",
    "plt.show()"
   ]
  },
  {
   "cell_type": "code",
   "execution_count": 9,
   "metadata": {},
   "outputs": [
    {
     "name": "stdout",
     "output_type": "stream",
     "text": [
      "Results of Classification using K-nn with K=1 \n",
      " Sample: [6.3 3.4 5.6 2.4]  Actual-label: 2  Predicted-label: 2\n",
      " Sample: [5.9 3.2 4.8 1.8]  Actual-label: 1  Predicted-label: 2\n",
      " Sample: [5.7 2.6 3.5 1. ]  Actual-label: 1  Predicted-label: 1\n",
      " Sample: [7.7 3.  6.1 2.3]  Actual-label: 2  Predicted-label: 2\n",
      " Sample: [6.9 3.2 5.7 2.3]  Actual-label: 2  Predicted-label: 2\n",
      " Sample: [4.9 2.4 3.3 1. ]  Actual-label: 1  Predicted-label: 1\n",
      " Sample: [6.6 3.  4.4 1.4]  Actual-label: 1  Predicted-label: 1\n",
      " Sample: [6.7 3.1 4.4 1.4]  Actual-label: 1  Predicted-label: 1\n",
      " Sample: [5.5 2.4 3.7 1. ]  Actual-label: 1  Predicted-label: 1\n",
      " Sample: [6.9 3.1 5.1 2.3]  Actual-label: 2  Predicted-label: 2\n",
      " Sample: [6.5 3.  5.2 2. ]  Actual-label: 2  Predicted-label: 2\n",
      " Sample: [5.  3.5 1.3 0.3]  Actual-label: 0  Predicted-label: 0\n",
      " Sample: [6.7 3.  5.  1.7]  Actual-label: 1  Predicted-label: 1\n",
      " Sample: [5.4 3.7 1.5 0.2]  Actual-label: 0  Predicted-label: 0\n",
      " Sample: [4.6 3.2 1.4 0.2]  Actual-label: 0  Predicted-label: 0\n",
      " Sample: [5.6 3.  4.5 1.5]  Actual-label: 1  Predicted-label: 1\n",
      " Sample: [5.7 2.8 4.5 1.3]  Actual-label: 1  Predicted-label: 1\n",
      " Sample: [6.3 2.3 4.4 1.3]  Actual-label: 1  Predicted-label: 1\n",
      " Sample: [7.7 3.8 6.7 2.2]  Actual-label: 2  Predicted-label: 2\n",
      " Sample: [4.9 3.1 1.5 0.2]  Actual-label: 0  Predicted-label: 0\n",
      " Sample: [6.7 3.3 5.7 2.5]  Actual-label: 2  Predicted-label: 2\n",
      " Sample: [6.2 3.4 5.4 2.3]  Actual-label: 2  Predicted-label: 2\n",
      " Sample: [4.9 3.6 1.4 0.1]  Actual-label: 0  Predicted-label: 0\n",
      " Sample: [5.8 2.8 5.1 2.4]  Actual-label: 2  Predicted-label: 2\n",
      " Sample: [5.7 3.  4.2 1.2]  Actual-label: 1  Predicted-label: 1\n",
      " Sample: [6.3 2.8 5.1 1.5]  Actual-label: 2  Predicted-label: 1\n",
      " Sample: [5.5 2.6 4.4 1.2]  Actual-label: 1  Predicted-label: 1\n",
      " Sample: [6.7 2.5 5.8 1.8]  Actual-label: 2  Predicted-label: 2\n",
      " Sample: [5.  3.6 1.4 0.2]  Actual-label: 0  Predicted-label: 0\n",
      " Sample: [6.6 2.9 4.6 1.3]  Actual-label: 1  Predicted-label: 1\n",
      " Sample: [5.5 2.5 4.  1.3]  Actual-label: 1  Predicted-label: 1\n",
      " Sample: [4.3 3.  1.1 0.1]  Actual-label: 0  Predicted-label: 0\n",
      " Sample: [5.8 2.7 4.1 1. ]  Actual-label: 1  Predicted-label: 1\n",
      " Sample: [5.8 2.7 5.1 1.9]  Actual-label: 2  Predicted-label: 2\n",
      " Sample: [5.2 3.4 1.4 0.2]  Actual-label: 0  Predicted-label: 0\n",
      " Sample: [6.4 2.8 5.6 2.2]  Actual-label: 2  Predicted-label: 2\n",
      " Sample: [5.1 3.8 1.6 0.2]  Actual-label: 0  Predicted-label: 0\n",
      " Sample: [5.4 3.9 1.7 0.4]  Actual-label: 0  Predicted-label: 0\n",
      "Classification Accuracy : 0.9473684210526315\n"
     ]
    }
   ],
   "source": [
    "#prog9\n",
    "from sklearn.model_selection import train_test_split\n",
    "from sklearn.neighbors import KNeighborsClassifier\n",
    "from sklearn import datasets\n",
    "iris = datasets.load_iris()\n",
    "\n",
    "x_train, x_test, y_train, y_test = train_test_split(iris.data,iris.target)\n",
    "classifier = KNeighborsClassifier(3).fit(x_train, y_train)\n",
    "y_pred=classifier.predict(x_test)\n",
    "print(\"Results of Classification using K-nn with K=1 \")\n",
    "for r in range(0,len(x_test)):\n",
    "    print(\" Sample:\", str(x_test[r]), \" Actual-label:\", str(y_test[r]), \" Predicted-label:\",str(y_pred[r]))\n",
    "print(\"Classification Accuracy :\" , classifier.score(x_test,y_test));"
   ]
  },
  {
   "cell_type": "code",
   "execution_count": 10,
   "metadata": {},
   "outputs": [
    {
     "data": {
      "image/png": "[encoded data removed]",
      "text/plain": [
       "<Figure size 432x288 with 1 Axes>"
      ]
     },
     "metadata": {
      "needs_background": "light"
     },
     "output_type": "display_data"
    }
   ],
   "source": [
    "#prog10\n",
    "import pandas as pd\n",
    "import numpy as np\n",
    "import matplotlib.pyplot as plt\n",
    "\n",
    "data = pd.read_csv('data10.csv')\n",
    "x = data['total_bill']\n",
    "y = data['tip']\n",
    "xmat = np.mat(x)\n",
    "ymat = np.mat(y)\n",
    "size = np.shape(xmat)[1]\n",
    "ones = np.mat(np.ones(size))\n",
    "X=np.hstack((ones.T,xmat.T))\n",
    "\n",
    "def localWeigh(point,X,ymat,k):\n",
    "    m,n = np.shape(X)\n",
    "    weights = np.mat(np.eye(m))\n",
    "    for i in range(m):\n",
    "        diff = point - X[i]\n",
    "        weights[i,i] = np.exp(diff*diff.T/(-2.0*k**2))\n",
    "    W = (X.T *(weights*X)).I * (X.T*(weights*ymat.T))\n",
    "    return W\n",
    "def localWeightReg(X,ymat,k):\n",
    "    m,n = np.shape(X)\n",
    "    ypred = np.zeros(m)\n",
    "    for i in range(m):\n",
    "        ypred[i] = X[i] * localWeigh(X[i],X,ymat,k)\n",
    "    return ypred\n",
    "\n",
    "pred = localWeightReg(X,ymat,3)\n",
    "\n",
    "plt.scatter(x,y)\n",
    "sortIndex = X[:,1].argsort(0)\n",
    "xsort = X[sortIndex][:,0][:,1]\n",
    "ysort = pred[sortIndex]\n",
    "plt.plot(xsort,ysort,color=\"red\")\n",
    "plt.show()"
   ]
  },
  {
   "cell_type": "code",
   "execution_count": null,
   "metadata": {},
   "outputs": [],
   "source": []
  }
 ],
 "metadata": {
  "kernelspec": {
   "display_name": "Python 3",
   "language": "python",
   "name": "python3"
  },
  "language_info": {
   "codemirror_mode": {
    "name": "ipython",
    "version": 3
   },
   "file_extension": ".py",
   "mimetype": "text/x-python",
   "name": "python",
   "nbconvert_exporter": "python",
   "pygments_lexer": "ipython3",
   "version": "3.5.2"
  }
 },
 "nbformat": 4,
 "nbformat_minor": 2
}
